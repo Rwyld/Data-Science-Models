{
  "nbformat": 4,
  "nbformat_minor": 0,
  "metadata": {
    "colab": {
      "provenance": []
    },
    "kernelspec": {
      "name": "python3",
      "display_name": "Python 3"
    },
    "language_info": {
      "name": "python"
    }
  },
  "cells": [
    {
      "cell_type": "markdown",
      "source": [
        "# Variables\n",
        "1. Años\n",
        "\n",
        "2. Sexo\n",
        "3. Tipo de dolor torácico (4 valores)\n",
        "4. Presión arterial en reposo\n",
        "5. Colesterol sérico en mg/dl\n",
        "6. Azúcar en sangre en ayunas > 120 mg/dl\n",
        "7. Resultados electrocardiográficos en reposo (valores 0,1,2)\n",
        "8. Frecuencia cardíaca máxima alcanzada\n",
        "9. Angina inducida por el ejercicio\n",
        "10. Oldpeak = depresión del ST inducida por el ejercicio en relación con el\n",
        "reposo\n",
        "11. Pendiente del segmento ST de ejercicio máximo\n",
        "12. Número de vasos principales (0-3) coloreados por fluoroscopia\n",
        "13. Thal: 3 = normal; 6 = defecto fijo; 7 = defecto reversible\n",
        "14. Variable Interes"
      ],
      "metadata": {
        "id": "DhcpAPpWy7gn"
      }
    },
    {
      "cell_type": "markdown",
      "source": [
        "# Setup"
      ],
      "metadata": {
        "id": "FPH0eOqg86UO"
      }
    },
    {
      "cell_type": "code",
      "source": [
        "!pip install pyspark"
      ],
      "metadata": {
        "colab": {
          "base_uri": "https://localhost:8080/"
        },
        "id": "vPdbyH_cqOMa",
        "outputId": "5ea0530a-cc07-43a4-d32c-103a4b65949a"
      },
      "execution_count": null,
      "outputs": [
        {
          "output_type": "stream",
          "name": "stdout",
          "text": [
            "Looking in indexes: https://pypi.org/simple, https://us-python.pkg.dev/colab-wheels/public/simple/\n",
            "Collecting pyspark\n",
            "  Downloading pyspark-3.4.0.tar.gz (310.8 MB)\n",
            "\u001b[2K     \u001b[90m━━━━━━━━━━━━━━━━━━━━━━━━━━━━━━━━━━━━━━━\u001b[0m \u001b[32m310.8/310.8 MB\u001b[0m \u001b[31m4.2 MB/s\u001b[0m eta \u001b[36m0:00:00\u001b[0m\n",
            "\u001b[?25h  Preparing metadata (setup.py) ... \u001b[?25l\u001b[?25hdone\n",
            "Requirement already satisfied: py4j==0.10.9.7 in /usr/local/lib/python3.10/dist-packages (from pyspark) (0.10.9.7)\n",
            "Building wheels for collected packages: pyspark\n",
            "  Building wheel for pyspark (setup.py) ... \u001b[?25l\u001b[?25hdone\n",
            "  Created wheel for pyspark: filename=pyspark-3.4.0-py2.py3-none-any.whl size=311317130 sha256=c3ffbc31a59383576502abce1a8c6562a794b4e367052ad2402818479a54c875\n",
            "  Stored in directory: /root/.cache/pip/wheels/7b/1b/4b/3363a1d04368e7ff0d408e57ff57966fcdf00583774e761327\n",
            "Successfully built pyspark\n",
            "Installing collected packages: pyspark\n",
            "Successfully installed pyspark-3.4.0\n"
          ]
        }
      ]
    },
    {
      "cell_type": "code",
      "source": [
        "from pyspark import SparkConf, SparkContext\n",
        "from pyspark.sql import SparkSession\n",
        "import pyspark.sql\n",
        "from pyspark.sql.functions import col, when\n",
        "from pyspark.sql import functions as F\n",
        "from pyspark.ml.feature import VectorAssembler, StandardScaler\n",
        "from pyspark.sql.types import *\n",
        "\n",
        "from pyspark.ml.classification import LogisticRegression\n",
        "from pyspark.ml.evaluation import BinaryClassificationEvaluator, MulticlassClassificationEvaluator"
      ],
      "metadata": {
        "id": "afn982DRqPTo"
      },
      "execution_count": null,
      "outputs": []
    },
    {
      "cell_type": "code",
      "source": [
        "# sc.stop()"
      ],
      "metadata": {
        "id": "4C-HrO2MyGLh"
      },
      "execution_count": null,
      "outputs": []
    },
    {
      "cell_type": "markdown",
      "source": [
        "#Inicializando Spark"
      ],
      "metadata": {
        "id": "TA0Nwyki88xU"
      }
    },
    {
      "cell_type": "code",
      "source": [
        "conf = SparkConf().setMaster(\"local\").setAppName(\"Enfermedad al Corazon\")\n",
        "\n",
        "# Inicializo el Spark Context\n",
        "sc = SparkContext(conf = conf)\n",
        "\n",
        "distFile = sc.textFile(\"/content/drive/MyDrive/DataScience/M8/CD - M8 AE3 heart.data\")\n",
        "\n",
        "#distFile.collect() # visualización de datos"
      ],
      "metadata": {
        "id": "dxqw63RUyBdf"
      },
      "execution_count": null,
      "outputs": []
    },
    {
      "cell_type": "markdown",
      "source": [
        "# Creando el DataFrame"
      ],
      "metadata": {
        "id": "OEwFcoLs9HN_"
      }
    },
    {
      "cell_type": "code",
      "source": [
        "spark = SparkSession.builder.getOrCreate()\n",
        "\n",
        "columnas = ['Años', 'Sexo', 'TipoDolor', 'PresionArterial', 'Colesterol', 'AzucarAyuna', 'Electrocardio', 'FrecuenciaCardio', 'Angina', 'Oldpeak', 'PendienteST', 'NumeroVasos', 'Thal', 'VariableInteres']\n",
        "\n",
        "data = distFile.map(lambda x: x.split()).toDF(columnas)\n",
        "\n",
        "data.show()"
      ],
      "metadata": {
        "colab": {
          "base_uri": "https://localhost:8080/"
        },
        "id": "Po3p0ju4yChN",
        "outputId": "86bdf7a5-830f-466b-ac56-8d532727188b"
      },
      "execution_count": null,
      "outputs": [
        {
          "output_type": "stream",
          "name": "stdout",
          "text": [
            "+----+----+---------+---------------+----------+-----------+-------------+----------------+------+-------+-----------+-----------+----+---------------+\n",
            "|Años|Sexo|TipoDolor|PresionArterial|Colesterol|AzucarAyuna|Electrocardio|FrecuenciaCardio|Angina|Oldpeak|PendienteST|NumeroVasos|Thal|VariableInteres|\n",
            "+----+----+---------+---------------+----------+-----------+-------------+----------------+------+-------+-----------+-----------+----+---------------+\n",
            "|70.0| 1.0|      4.0|          130.0|     322.0|        0.0|          2.0|           109.0|   0.0|    2.4|        2.0|        3.0| 3.0|              2|\n",
            "|67.0| 0.0|      3.0|          115.0|     564.0|        0.0|          2.0|           160.0|   0.0|    1.6|        2.0|        0.0| 7.0|              1|\n",
            "|57.0| 1.0|      2.0|          124.0|     261.0|        0.0|          0.0|           141.0|   0.0|    0.3|        1.0|        0.0| 7.0|              2|\n",
            "|64.0| 1.0|      4.0|          128.0|     263.0|        0.0|          0.0|           105.0|   1.0|    0.2|        2.0|        1.0| 7.0|              1|\n",
            "|74.0| 0.0|      2.0|          120.0|     269.0|        0.0|          2.0|           121.0|   1.0|    0.2|        1.0|        1.0| 3.0|              1|\n",
            "|65.0| 1.0|      4.0|          120.0|     177.0|        0.0|          0.0|           140.0|   0.0|    0.4|        1.0|        0.0| 7.0|              1|\n",
            "|56.0| 1.0|      3.0|          130.0|     256.0|        1.0|          2.0|           142.0|   1.0|    0.6|        2.0|        1.0| 6.0|              2|\n",
            "|59.0| 1.0|      4.0|          110.0|     239.0|        0.0|          2.0|           142.0|   1.0|    1.2|        2.0|        1.0| 7.0|              2|\n",
            "|60.0| 1.0|      4.0|          140.0|     293.0|        0.0|          2.0|           170.0|   0.0|    1.2|        2.0|        2.0| 7.0|              2|\n",
            "|63.0| 0.0|      4.0|          150.0|     407.0|        0.0|          2.0|           154.0|   0.0|    4.0|        2.0|        3.0| 7.0|              2|\n",
            "|59.0| 1.0|      4.0|          135.0|     234.0|        0.0|          0.0|           161.0|   0.0|    0.5|        2.0|        0.0| 7.0|              1|\n",
            "|53.0| 1.0|      4.0|          142.0|     226.0|        0.0|          2.0|           111.0|   1.0|    0.0|        1.0|        0.0| 7.0|              1|\n",
            "|44.0| 1.0|      3.0|          140.0|     235.0|        0.0|          2.0|           180.0|   0.0|    0.0|        1.0|        0.0| 3.0|              1|\n",
            "|61.0| 1.0|      1.0|          134.0|     234.0|        0.0|          0.0|           145.0|   0.0|    2.6|        2.0|        2.0| 3.0|              2|\n",
            "|57.0| 0.0|      4.0|          128.0|     303.0|        0.0|          2.0|           159.0|   0.0|    0.0|        1.0|        1.0| 3.0|              1|\n",
            "|71.0| 0.0|      4.0|          112.0|     149.0|        0.0|          0.0|           125.0|   0.0|    1.6|        2.0|        0.0| 3.0|              1|\n",
            "|46.0| 1.0|      4.0|          140.0|     311.0|        0.0|          0.0|           120.0|   1.0|    1.8|        2.0|        2.0| 7.0|              2|\n",
            "|53.0| 1.0|      4.0|          140.0|     203.0|        1.0|          2.0|           155.0|   1.0|    3.1|        3.0|        0.0| 7.0|              2|\n",
            "|64.0| 1.0|      1.0|          110.0|     211.0|        0.0|          2.0|           144.0|   1.0|    1.8|        2.0|        0.0| 3.0|              1|\n",
            "|40.0| 1.0|      1.0|          140.0|     199.0|        0.0|          0.0|           178.0|   1.0|    1.4|        1.0|        0.0| 7.0|              1|\n",
            "+----+----+---------+---------------+----------+-----------+-------------+----------------+------+-------+-----------+-----------+----+---------------+\n",
            "only showing top 20 rows\n",
            "\n"
          ]
        }
      ]
    },
    {
      "cell_type": "markdown",
      "source": [
        "# Creando la Variable \"Enfermo\""
      ],
      "metadata": {
        "id": "-XYFox6d9JU8"
      }
    },
    {
      "cell_type": "code",
      "source": [
        "data = data.withColumn(\"Enfermo\", when(col(\"Thal\") > 3, 1).otherwise(0))\n",
        "data.show()"
      ],
      "metadata": {
        "colab": {
          "base_uri": "https://localhost:8080/"
        },
        "id": "ZlAxk-446jrd",
        "outputId": "0e932597-72bb-4d5c-d46e-4a54d6c29ec1"
      },
      "execution_count": null,
      "outputs": [
        {
          "output_type": "stream",
          "name": "stdout",
          "text": [
            "+----+----+---------+---------------+----------+-----------+-------------+----------------+------+-------+-----------+-----------+----+---------------+-------+\n",
            "|Años|Sexo|TipoDolor|PresionArterial|Colesterol|AzucarAyuna|Electrocardio|FrecuenciaCardio|Angina|Oldpeak|PendienteST|NumeroVasos|Thal|VariableInteres|Enfermo|\n",
            "+----+----+---------+---------------+----------+-----------+-------------+----------------+------+-------+-----------+-----------+----+---------------+-------+\n",
            "|70.0| 1.0|      4.0|          130.0|     322.0|        0.0|          2.0|           109.0|   0.0|    2.4|        2.0|        3.0| 3.0|              2|      0|\n",
            "|67.0| 0.0|      3.0|          115.0|     564.0|        0.0|          2.0|           160.0|   0.0|    1.6|        2.0|        0.0| 7.0|              1|      1|\n",
            "|57.0| 1.0|      2.0|          124.0|     261.0|        0.0|          0.0|           141.0|   0.0|    0.3|        1.0|        0.0| 7.0|              2|      1|\n",
            "|64.0| 1.0|      4.0|          128.0|     263.0|        0.0|          0.0|           105.0|   1.0|    0.2|        2.0|        1.0| 7.0|              1|      1|\n",
            "|74.0| 0.0|      2.0|          120.0|     269.0|        0.0|          2.0|           121.0|   1.0|    0.2|        1.0|        1.0| 3.0|              1|      0|\n",
            "|65.0| 1.0|      4.0|          120.0|     177.0|        0.0|          0.0|           140.0|   0.0|    0.4|        1.0|        0.0| 7.0|              1|      1|\n",
            "|56.0| 1.0|      3.0|          130.0|     256.0|        1.0|          2.0|           142.0|   1.0|    0.6|        2.0|        1.0| 6.0|              2|      1|\n",
            "|59.0| 1.0|      4.0|          110.0|     239.0|        0.0|          2.0|           142.0|   1.0|    1.2|        2.0|        1.0| 7.0|              2|      1|\n",
            "|60.0| 1.0|      4.0|          140.0|     293.0|        0.0|          2.0|           170.0|   0.0|    1.2|        2.0|        2.0| 7.0|              2|      1|\n",
            "|63.0| 0.0|      4.0|          150.0|     407.0|        0.0|          2.0|           154.0|   0.0|    4.0|        2.0|        3.0| 7.0|              2|      1|\n",
            "|59.0| 1.0|      4.0|          135.0|     234.0|        0.0|          0.0|           161.0|   0.0|    0.5|        2.0|        0.0| 7.0|              1|      1|\n",
            "|53.0| 1.0|      4.0|          142.0|     226.0|        0.0|          2.0|           111.0|   1.0|    0.0|        1.0|        0.0| 7.0|              1|      1|\n",
            "|44.0| 1.0|      3.0|          140.0|     235.0|        0.0|          2.0|           180.0|   0.0|    0.0|        1.0|        0.0| 3.0|              1|      0|\n",
            "|61.0| 1.0|      1.0|          134.0|     234.0|        0.0|          0.0|           145.0|   0.0|    2.6|        2.0|        2.0| 3.0|              2|      0|\n",
            "|57.0| 0.0|      4.0|          128.0|     303.0|        0.0|          2.0|           159.0|   0.0|    0.0|        1.0|        1.0| 3.0|              1|      0|\n",
            "|71.0| 0.0|      4.0|          112.0|     149.0|        0.0|          0.0|           125.0|   0.0|    1.6|        2.0|        0.0| 3.0|              1|      0|\n",
            "|46.0| 1.0|      4.0|          140.0|     311.0|        0.0|          0.0|           120.0|   1.0|    1.8|        2.0|        2.0| 7.0|              2|      1|\n",
            "|53.0| 1.0|      4.0|          140.0|     203.0|        1.0|          2.0|           155.0|   1.0|    3.1|        3.0|        0.0| 7.0|              2|      1|\n",
            "|64.0| 1.0|      1.0|          110.0|     211.0|        0.0|          2.0|           144.0|   1.0|    1.8|        2.0|        0.0| 3.0|              1|      0|\n",
            "|40.0| 1.0|      1.0|          140.0|     199.0|        0.0|          0.0|           178.0|   1.0|    1.4|        1.0|        0.0| 7.0|              1|      1|\n",
            "+----+----+---------+---------------+----------+-----------+-------------+----------------+------+-------+-----------+-----------+----+---------------+-------+\n",
            "only showing top 20 rows\n",
            "\n"
          ]
        }
      ]
    },
    {
      "cell_type": "markdown",
      "source": [
        "# Preprocesando Data"
      ],
      "metadata": {
        "id": "tJWZR3Qd8xgH"
      }
    },
    {
      "cell_type": "code",
      "source": [
        "data.printSchema()"
      ],
      "metadata": {
        "colab": {
          "base_uri": "https://localhost:8080/"
        },
        "id": "5-ATDju9AtvR",
        "outputId": "2438b627-b5d5-41d7-ff1e-16c27e41ec41"
      },
      "execution_count": null,
      "outputs": [
        {
          "output_type": "stream",
          "name": "stdout",
          "text": [
            "root\n",
            " |-- Años: string (nullable = true)\n",
            " |-- Sexo: string (nullable = true)\n",
            " |-- TipoDolor: string (nullable = true)\n",
            " |-- PresionArterial: string (nullable = true)\n",
            " |-- Colesterol: string (nullable = true)\n",
            " |-- AzucarAyuna: string (nullable = true)\n",
            " |-- Electrocardio: string (nullable = true)\n",
            " |-- FrecuenciaCardio: string (nullable = true)\n",
            " |-- Angina: string (nullable = true)\n",
            " |-- Oldpeak: string (nullable = true)\n",
            " |-- PendienteST: string (nullable = true)\n",
            " |-- NumeroVasos: string (nullable = true)\n",
            " |-- Thal: string (nullable = true)\n",
            " |-- VariableInteres: string (nullable = true)\n",
            " |-- Enfermo: integer (nullable = false)\n",
            "\n"
          ]
        }
      ]
    },
    {
      "cell_type": "markdown",
      "source": [
        "Observando las variables de la data, se encontro que los datos estaban siendo reconocidos como strings y no en datos numericos, por lo tanto habia que procesarlos nuevamente con su correspondiente tipo de variable."
      ],
      "metadata": {
        "id": "fbIZeQOzRBxb"
      }
    },
    {
      "cell_type": "code",
      "source": [
        "columnas = ['Años', 'Sexo', 'TipoDolor', 'PresionArterial', 'Colesterol', 'AzucarAyuna', 'Electrocardio', 'FrecuenciaCardio', 'Angina', 'Oldpeak', 'PendienteST', 'NumeroVasos', 'Thal', 'VariableInteres']\n",
        "columnasTipos = [DoubleType(), DoubleType(), DoubleType(), DoubleType(), DoubleType(), DoubleType(), DoubleType(), DoubleType(), DoubleType(), DoubleType(), DoubleType(), DoubleType(), DoubleType()]\n",
        "\n",
        "\n",
        "for colName, colType in zip(columnas, columnasTipos):\n",
        "    data = data.withColumn(colName, data[colName].cast(colType))\n",
        "\n",
        "data = data.withColumn('VariableInteres', data['VariableInteres'].cast(DoubleType()))"
      ],
      "metadata": {
        "id": "qYawFazSC2Z-"
      },
      "execution_count": null,
      "outputs": []
    },
    {
      "cell_type": "code",
      "source": [
        "data.printSchema()"
      ],
      "metadata": {
        "colab": {
          "base_uri": "https://localhost:8080/"
        },
        "id": "BEhr0Bx7C9vV",
        "outputId": "7cc21a98-8d7d-4b31-db53-e7906929fd3b"
      },
      "execution_count": null,
      "outputs": [
        {
          "output_type": "stream",
          "name": "stdout",
          "text": [
            "root\n",
            " |-- Años: double (nullable = true)\n",
            " |-- Sexo: double (nullable = true)\n",
            " |-- TipoDolor: double (nullable = true)\n",
            " |-- PresionArterial: double (nullable = true)\n",
            " |-- Colesterol: double (nullable = true)\n",
            " |-- AzucarAyuna: double (nullable = true)\n",
            " |-- Electrocardio: double (nullable = true)\n",
            " |-- FrecuenciaCardio: double (nullable = true)\n",
            " |-- Angina: double (nullable = true)\n",
            " |-- Oldpeak: double (nullable = true)\n",
            " |-- PendienteST: double (nullable = true)\n",
            " |-- NumeroVasos: double (nullable = true)\n",
            " |-- Thal: double (nullable = true)\n",
            " |-- VariableInteres: double (nullable = true)\n",
            " |-- Enfermo: integer (nullable = false)\n",
            "\n"
          ]
        }
      ]
    },
    {
      "cell_type": "markdown",
      "source": [
        "Comprobamos que todas las variables corresponden a una variable numerica."
      ],
      "metadata": {
        "id": "fdwlvz_rRdZX"
      }
    },
    {
      "cell_type": "markdown",
      "source": [
        "#Assembler Data"
      ],
      "metadata": {
        "id": "eApeyj5qRrVC"
      }
    },
    {
      "cell_type": "code",
      "source": [
        "#Probando sin la variable \"VariableInteres\", pero dio el mismo resultado\n",
        "#columnas2 = ['Años', 'Sexo', 'TipoDolor', 'PresionArterial', 'Colesterol', 'AzucarAyuna', 'Electrocardio', 'FrecuenciaCardio', 'Angina', 'Oldpeak', 'PendienteST', 'NumeroVasos', 'Thal']\n",
        "\n",
        "assembler = VectorAssembler(inputCols = columnas, outputCol='features')\n",
        "\n",
        "output = assembler.transform(data)\n",
        "modelData = output.select('features','Enfermo')\n",
        "modelData.show()"
      ],
      "metadata": {
        "colab": {
          "base_uri": "https://localhost:8080/"
        },
        "id": "cswZ2-j884gD",
        "outputId": "b358452e-bc79-490c-cff9-9f34f23d2350"
      },
      "execution_count": null,
      "outputs": [
        {
          "output_type": "stream",
          "name": "stdout",
          "text": [
            "+--------------------+-------+\n",
            "|            features|Enfermo|\n",
            "+--------------------+-------+\n",
            "|[70.0,1.0,4.0,130...|      0|\n",
            "|[67.0,0.0,3.0,115...|      1|\n",
            "|[57.0,1.0,2.0,124...|      1|\n",
            "|[64.0,1.0,4.0,128...|      1|\n",
            "|[74.0,0.0,2.0,120...|      0|\n",
            "|[65.0,1.0,4.0,120...|      1|\n",
            "|[56.0,1.0,3.0,130...|      1|\n",
            "|[59.0,1.0,4.0,110...|      1|\n",
            "|[60.0,1.0,4.0,140...|      1|\n",
            "|[63.0,0.0,4.0,150...|      1|\n",
            "|[59.0,1.0,4.0,135...|      1|\n",
            "|[53.0,1.0,4.0,142...|      1|\n",
            "|[44.0,1.0,3.0,140...|      0|\n",
            "|[61.0,1.0,1.0,134...|      0|\n",
            "|[57.0,0.0,4.0,128...|      0|\n",
            "|[71.0,0.0,4.0,112...|      0|\n",
            "|[46.0,1.0,4.0,140...|      1|\n",
            "|[53.0,1.0,4.0,140...|      1|\n",
            "|[64.0,1.0,1.0,110...|      0|\n",
            "|[40.0,1.0,1.0,140...|      1|\n",
            "+--------------------+-------+\n",
            "only showing top 20 rows\n",
            "\n"
          ]
        }
      ]
    },
    {
      "cell_type": "markdown",
      "source": [
        "# StandardScaler Data"
      ],
      "metadata": {
        "id": "UhwCEOUcRxjh"
      }
    },
    {
      "cell_type": "code",
      "source": [
        "scaler = StandardScaler(inputCol = 'features', outputCol= 'scaledFeatures', withMean = True, withStd= True)\n",
        "\n",
        "scalerModel = scaler.fit(modelData)\n",
        "scaledData = scalerModel.transform(modelData)\n",
        "finalData = scaledData.select('scaledFeatures','Enfermo')\n",
        "finalData.show(truncate=False)"
      ],
      "metadata": {
        "colab": {
          "base_uri": "https://localhost:8080/"
        },
        "id": "zg2LAhEaDI1E",
        "outputId": "f6b35f44-2d16-4a2c-c777-c39c8d483a91"
      },
      "execution_count": null,
      "outputs": [
        {
          "output_type": "stream",
          "name": "stdout",
          "text": [
            "+---------------------------------------------------------------------------------------------------------------------------------------------------------------------------------------------------------------------------------------------------------------------------------------+-------+\n",
            "|scaledFeatures                                                                                                                                                                                                                                                                         |Enfermo|\n",
            "+---------------------------------------------------------------------------------------------------------------------------------------------------------------------------------------------------------------------------------------------------------------------------------------+-------+\n",
            "|[1.7089200771370505,0.6882216640697679,0.8693133244601348,-0.07527006652510361,1.3996132196232811,-0.41625583610924666,0.9798440641548771,-1.7559472980117488,-0.6999225307186296,1.1788232632835487,0.6751654883851276,2.4680989040561996,-0.8740826302254114,1.1159616348111494]     |0      |\n",
            "|[1.3795778781170618,-1.4476386726984776,-0.1832185033615519,-0.9150600649456696,6.081710688913948,-0.41625583610924666,0.9798440641548771,0.44558181913492173,-0.6999225307186296,0.4802613294858902,0.6751654883851276,-0.7102160598317524,1.1870729170310206,-0.8927693078489178]    |1      |\n",
            "|[0.2817705480504328,0.6882216640697679,-1.2357503311832385,-0.41118606589333,0.21941509719877408,-0.41625583610924666,-1.0243824307073714,-0.3745956950961908,-0.6999225307186296,-0.6549018129353052,-0.9524655996861658,-0.7102160598317524,1.1870729170310206,1.1159616348111494]   |1      |\n",
            "|[1.050235679097073,0.6882216640697679,0.8693133244601348,-0.18724206631451243,0.25811011760613495,-0.41625583610924666,-1.0243824307073714,-1.9286162483761935,1.4234379557311458,-0.7422220546600127,0.6751654883851276,0.34922226146423146,1.1870729170310206,-0.8927693078489178]   |1      |\n",
            "|[2.148043009163702,-1.4476386726984776,-1.2357503311832385,-0.6351300654721477,0.3741951788282176,-0.41625583610924666,0.9798440641548771,-1.2379404469184145,1.4234379557311458,-0.7422220546600127,-0.9524655996861658,0.34922226146423146,-0.8740826302254114,-0.8927693078489178]  |0      |\n",
            "|[1.160016412103736,0.6882216640697679,0.8693133244601348,-0.6351300654721477,-1.405775759910383,-0.41625583610924666,-1.0243824307073714,-0.41776293268730197,-0.6999225307186296,-0.5675815712105979,-0.9524655996861658,-0.7102160598317524,1.1870729170310206,-0.8927693078489178]  |1      |\n",
            "|[0.1719898150437699,0.6882216640697679,-0.1832185033615519,-0.07527006652510361,0.12267754618037187,2.3934710576281684,0.9798440641548771,-0.3314284575050796,1.4234379557311458,-0.39294108776118325,0.6751654883851276,0.34922226146423146,0.6717840302169126,1.1159616348111494]    |1      |\n",
            "|[0.5013320140637586,0.6882216640697679,0.8693133244601348,-1.1949900644191918,-0.20623012728219564,-0.41625583610924666,0.9798440641548771,-0.3314284575050796,1.4234379557311458,0.13098036258706072,0.6751654883851276,0.34922226146423146,1.1870729170310206,1.1159616348111494]    |1      |\n",
            "|[0.6111127470704215,0.6882216640697679,0.8693133244601348,0.48458993242194043,0.8385354237165482,-0.41625583610924666,0.9798440641548771,0.8772541950460336,-0.6999225307186296,0.13098036258706072,0.6751654883851276,1.4086605827602154,1.1870729170310206,1.1159616348111494]       |1      |\n",
            "|[0.9404549460904101,-1.4476386726984776,0.8693133244601348,1.0444499313689843,3.0441515869361186,-0.41625583610924666,0.9798440641548771,0.18657839358825462,-0.6999225307186296,2.575947130878866,0.6751654883851276,2.4680989040561996,1.1870729170310206,1.1159616348111494]        |1      |\n",
            "|[0.5013320140637586,0.6882216640697679,0.8693133244601348,0.2046599329484184,-0.30296767830059784,-0.41625583610924666,-1.0243824307073714,0.4887490567260329,-0.6999225307186296,-0.48026132948589056,0.6751654883851276,-0.7102160598317524,1.1870729170310206,-0.8927693078489178]  |1      |\n",
            "|[-0.15735238397621878,0.6882216640697679,0.8693133244601348,0.5965619322113492,-0.4577477599300414,-0.41625583610924666,0.9798440641548771,-1.6696128228295264,1.4234379557311458,-0.9168625381094273,-0.9524655996861658,-0.7102160598317524,1.1870729170310206,-0.8927693078489178]  |1      |\n",
            "|[-1.145378981036185,0.6882216640697679,-0.1832185033615519,0.48458993242194043,-0.2836201680969174,-0.41625583610924666,0.9798440641548771,1.3089265709571454,-0.6999225307186296,-0.9168625381094273,-0.9524655996861658,-0.7102160598317524,-0.8740826302254114,-0.8927693078489178] |0      |\n",
            "|[0.7208934800770844,0.6882216640697679,-2.2882821590049254,0.14867393305371399,-0.30296767830059784,-0.41625583610924666,-1.0243824307073714,-0.20192674473174604,-0.6999225307186296,1.3534637467329635,0.6751654883851276,1.4086605827602154,-0.8740826302254114,1.1159616348111494] |0      |\n",
            "|[0.2817705480504328,-1.4476386726984776,0.8693133244601348,-0.18724206631451243,1.0320105257533527,-0.41625583610924666,0.9798440641548771,0.40241458154381055,-0.6999225307186296,-0.9168625381094273,-0.9524655996861658,0.34922226146423146,-0.8740826302254114,-0.8927693078489178]|0      |\n",
            "|[1.8187008101437134,-1.4476386726984776,0.8693133244601348,-1.083018064629783,-1.9475060456134354,-0.41625583610924666,-1.0243824307073714,-1.0652714965539698,-0.6999225307186296,0.4802613294858902,0.6751654883851276,-0.7102160598317524,-0.8740826302254114,-0.8927693078489178]  |0      |\n",
            "|[-0.925817515022859,0.6882216640697679,0.8693133244601348,0.48458993242194043,1.1867906073827963,-0.41625583610924666,-1.0243824307073714,-1.2811076845095257,1.4234379557311458,0.6549018129353048,0.6751654883851276,1.4086605827602154,1.1870729170310206,1.1159616348111494]       |1      |\n",
            "|[-0.15735238397621878,0.6882216640697679,0.8693133244601348,0.48458993242194043,-0.9027404946146915,2.3934710576281684,0.9798440641548771,0.2297456311793658,1.4234379557311458,1.7900649553565002,2.302796576456421,-0.7102160598317524,1.1870729170310206,1.1159616348111494]        |1      |\n",
            "|[1.050235679097073,0.6882216640697679,-2.2882821590049254,-1.1949900644191918,-0.7479604129852481,-0.41625583610924666,0.9798440641548771,-0.24509398232285723,1.4234379557311458,0.6549018129353048,0.6751654883851276,-0.7102160598317524,-0.8740826302254114,-0.8927693078489178]   |0      |\n",
            "|[-1.5845019130628364,0.6882216640697679,-2.2882821590049254,0.48458993242194043,-0.9801305354294133,-0.41625583610924666,-1.0243824307073714,1.222592095774923,1.4234379557311458,0.3056208460364754,-0.9524655996861658,-0.7102160598317524,1.1870729170310206,-0.8927693078489178]   |1      |\n",
            "+---------------------------------------------------------------------------------------------------------------------------------------------------------------------------------------------------------------------------------------------------------------------------------------+-------+\n",
            "only showing top 20 rows\n",
            "\n"
          ]
        }
      ]
    },
    {
      "cell_type": "markdown",
      "source": [
        "#Train Test Split"
      ],
      "metadata": {
        "id": "fB5v1HySFS68"
      }
    },
    {
      "cell_type": "code",
      "source": [
        "trainData , testData = finalData.randomSplit([0.5,0.5])"
      ],
      "metadata": {
        "id": "h_DirM-nFYWF"
      },
      "execution_count": null,
      "outputs": []
    },
    {
      "cell_type": "markdown",
      "source": [
        "# Modelamiento Regresión Logística"
      ],
      "metadata": {
        "id": "H4fw53oLFrJi"
      }
    },
    {
      "cell_type": "code",
      "source": [
        "logicClass = LogisticRegression(featuresCol = 'scaledFeatures', labelCol = 'Enfermo')\n",
        "\n",
        "model = logicClass.fit(trainData)\n"
      ],
      "metadata": {
        "id": "5juSNXIfFq1C"
      },
      "execution_count": null,
      "outputs": []
    },
    {
      "cell_type": "code",
      "source": [
        "pred = model.transform(testData)"
      ],
      "metadata": {
        "id": "oz8i74IAGjTx"
      },
      "execution_count": null,
      "outputs": []
    },
    {
      "cell_type": "markdown",
      "source": [
        "# Metricas AUC y Precisión"
      ],
      "metadata": {
        "id": "uggQfTSzLDmD"
      }
    },
    {
      "cell_type": "code",
      "source": [
        "evaluator = BinaryClassificationEvaluator(rawPredictionCol='prediction',labelCol = 'Enfermo')\n",
        "AUC = evaluator.evaluate(pred)\n",
        "print(\"AUC-ROC:\", AUC)\n",
        "\n",
        "accuracy = MulticlassClassificationEvaluator(labelCol=\"Enfermo\", metricName=\"accuracy\")\n",
        "accuracy = accuracy.evaluate(pred)\n",
        "print(\"Exactitud:\", accuracy)\n",
        "\n",
        "recall = MulticlassClassificationEvaluator(labelCol=\"Enfermo\", metricName=\"recallByLabel\")\n",
        "recall = recall.evaluate(pred)\n",
        "print(\"Recall:\", recall)\n",
        "\n",
        "f1 = MulticlassClassificationEvaluator(labelCol=\"Enfermo\", metricName=\"f1\")\n",
        "f1Score = f1.evaluate(pred)\n",
        "print(\"F1-Score:\", f1Score)\n"
      ],
      "metadata": {
        "colab": {
          "base_uri": "https://localhost:8080/"
        },
        "id": "N_oYhXe_HRoa",
        "outputId": "b36ef764-9743-4f35-ebbc-bc490e05a0fe"
      },
      "execution_count": null,
      "outputs": [
        {
          "output_type": "stream",
          "name": "stdout",
          "text": [
            "AUC-ROC: 1.0\n",
            "Exactitud: 1.0\n",
            "Recall: 1.0\n",
            "F1-Score: 1.0\n"
          ]
        }
      ]
    },
    {
      "cell_type": "markdown",
      "source": [
        "Segun las metricas obtenidas, el obtener un \"1.0\" como resultado indica que el modelo tiene un rendimiento perfecto y que todas sus predicciones los esta clasificando correctamente."
      ],
      "metadata": {
        "id": "TrVAjHbdR4Ud"
      }
    },
    {
      "cell_type": "code",
      "source": [
        "# pred.select('Enfermo','prediction').show()\n",
        "pred.show()"
      ],
      "metadata": {
        "colab": {
          "base_uri": "https://localhost:8080/"
        },
        "id": "4uFVaW4eHj--",
        "outputId": "b184a5ed-40c1-4f61-dac4-91dbb0f40379"
      },
      "execution_count": null,
      "outputs": [
        {
          "output_type": "stream",
          "name": "stdout",
          "text": [
            "+--------------------+-------+--------------------+--------------------+----------+\n",
            "|      scaledFeatures|Enfermo|       rawPrediction|         probability|prediction|\n",
            "+--------------------+-------+--------------------+--------------------+----------+\n",
            "|[-2.2431863111028...|      0|[19.7274290219951...|[0.99999999729301...|       0.0|\n",
            "|[-2.1334055780961...|      0|[20.3120875148059...|[0.99999999849140...|       0.0|\n",
            "|[-2.1334055780961...|      1|[-25.172143898952...|[1.16916769511768...|       1.0|\n",
            "|[-1.9138441120828...|      0|[21.4560037986716...|[0.99999999951940...|       0.0|\n",
            "|[-1.9138441120828...|      0|[15.4570281103857...|[0.99999980631414...|       0.0|\n",
            "|[-1.8040633790761...|      1|[-26.379777685277...|[3.49468565622738...|       1.0|\n",
            "|[-1.6942826460694...|      0|[22.6160868120582...|[0.99999999984935...|       0.0|\n",
            "|[-1.5845019130628...|      1|[-26.484884640965...|[3.14601469287166...|       1.0|\n",
            "|[-1.4747211800561...|      0|[21.8130480123959...|[0.99999999966371...|       0.0|\n",
            "|[-1.4747211800561...|      0|[19.9805527583414...|[0.99999999789837...|       0.0|\n",
            "|[-1.4747211800561...|      0|[20.4196818805424...|[0.99999999864529...|       0.0|\n",
            "|[-1.4747211800561...|      0|[17.7024520484382...|[0.99999997949202...|       0.0|\n",
            "|[-1.3649404470495...|      0|[20.4932979045916...|[0.99999999874144...|       0.0|\n",
            "|[-1.3649404470495...|      0|[18.7931952854680...|[0.99999999311000...|       0.0|\n",
            "|[-1.2551597140428...|      0|[19.5513892058550...|[0.99999999677195...|       0.0|\n",
            "|[-1.2551597140428...|      1|[-24.573100147960...|[2.12832625479817...|       1.0|\n",
            "|[-1.2551597140428...|      0|[18.8820517026223...|[0.99999999369581...|       0.0|\n",
            "|[-1.1453789810361...|      0|[19.4357354767141...|[0.99999999637617...|       0.0|\n",
            "|[-1.1453789810361...|      0|[19.2670637648659...|[0.99999999571036...|       0.0|\n",
            "|[-1.1453789810361...|      1|[-23.688431043673...|[5.15519518096946...|       1.0|\n",
            "+--------------------+-------+--------------------+--------------------+----------+\n",
            "only showing top 20 rows\n",
            "\n"
          ]
        }
      ]
    },
    {
      "cell_type": "markdown",
      "source": [
        "Comprobando los datos obtenidos en la prediccion con los datos de testeo, encontramos que los datos con una rawPrediction con un valor negativo los clasifica como 1 (\"Enfermos\") y los positivos en 0 (\"Sanos\")."
      ],
      "metadata": {
        "id": "wQL9ZbBWTdUQ"
      }
    },
    {
      "cell_type": "markdown",
      "source": [
        "# Corroborando Prediccion vs Enfermo"
      ],
      "metadata": {
        "id": "Aye6jtFCNDj0"
      }
    },
    {
      "cell_type": "code",
      "source": [
        "predData = pred.withColumn('correcta', F.when(F.col('Enfermo') == F.col('prediction'), True).otherwise(False))\n",
        "predData.select('Enfermo','prediction','correcta').show()"
      ],
      "metadata": {
        "colab": {
          "base_uri": "https://localhost:8080/"
        },
        "id": "CVRwcIaTNHZ9",
        "outputId": "8c0c3749-617a-40bb-d4c3-a923e9dcd419"
      },
      "execution_count": null,
      "outputs": [
        {
          "output_type": "stream",
          "name": "stdout",
          "text": [
            "+-------+----------+--------+\n",
            "|Enfermo|prediction|correcta|\n",
            "+-------+----------+--------+\n",
            "|      0|       0.0|    true|\n",
            "|      0|       0.0|    true|\n",
            "|      1|       1.0|    true|\n",
            "|      0|       0.0|    true|\n",
            "|      0|       0.0|    true|\n",
            "|      1|       1.0|    true|\n",
            "|      0|       0.0|    true|\n",
            "|      1|       1.0|    true|\n",
            "|      0|       0.0|    true|\n",
            "|      0|       0.0|    true|\n",
            "|      0|       0.0|    true|\n",
            "|      0|       0.0|    true|\n",
            "|      0|       0.0|    true|\n",
            "|      0|       0.0|    true|\n",
            "|      0|       0.0|    true|\n",
            "|      1|       1.0|    true|\n",
            "|      0|       0.0|    true|\n",
            "|      0|       0.0|    true|\n",
            "|      0|       0.0|    true|\n",
            "|      1|       1.0|    true|\n",
            "+-------+----------+--------+\n",
            "only showing top 20 rows\n",
            "\n"
          ]
        }
      ]
    },
    {
      "cell_type": "markdown",
      "source": [
        "Corroboramos la prediccion realizada contra la variable Enfermo si corresponden efectivamente. Se observa en la variable 'Correcta' si ambos datos son iguales se da un True y sino es un False. En los datos que se observan todos corresponden."
      ],
      "metadata": {
        "id": "Ex0Py4-eTu-2"
      }
    }
  ]
}