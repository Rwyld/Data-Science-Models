{
 "cells": [
  {
   "cell_type": "code",
   "execution_count": 48,
   "metadata": {
    "collapsed": true
   },
   "outputs": [
    {
     "name": "stdout",
     "output_type": "stream",
     "text": [
      "Se necesitan de 2401 personas para garantizar que el error no supere el 2%\n"
     ]
    }
   ],
   "source": [
    "z = 1.96\n",
    "e = 0.02\n",
    "p = 0.5\n",
    "q = 0.5\n",
    "\n",
    "n = z**2 * p * q / e**2\n",
    "\n",
    "print(f\"Se necesitan de {round(n)} personas para garantizar que el error no supere el 2%\")"
   ]
  },
  {
   "cell_type": "code",
   "execution_count": 60,
   "outputs": [
    {
     "name": "stdout",
     "output_type": "stream",
     "text": [
      "Se necesitan de 8 electrodomesticos como muestra minima para que se obtenga una vida media entre 90 a 100 meses.\n"
     ]
    }
   ],
   "source": [
    "media = 100\n",
    "des = 12\n",
    "p = 0.98\n",
    "z = 2.32\n",
    "e = 10\n",
    "\n",
    "#e = z * des / n**.5\n",
    "#n = (z * des / e)**2\n",
    "n = (z * des / e)**2\n",
    "\n",
    "print(f\"Se necesitan de {round(n)} electrodomesticos como muestra minima para que se obtenga una vida media entre 90 a 100 meses.\")"
   ],
   "metadata": {
    "collapsed": false
   }
  },
  {
   "cell_type": "code",
   "execution_count": 61,
   "outputs": [
    {
     "name": "stdout",
     "output_type": "stream",
     "text": [
      "El nivel de confianza para que la media de la poblacion este entre 31.5 y 33.5 es de aproximadamente un 99%.\n",
      "El tamaño minimo de la poblacion debe ser de 107 personas para que el error no supere el 0.75 y que el nivel de confianza sea de un 99%.\n"
     ]
    }
   ],
   "source": [
    "des = 3.2\n",
    "n = 64\n",
    "m = 32.5\n",
    "e = 1\n",
    "\n",
    "#a\n",
    "#31.5 = z * des / n**.5\n",
    "#31.5 * n**.5 = z * des\n",
    "z = 1 * n**.5 / des\n",
    "\n",
    "print(f\"El nivel de confianza para que la media de la poblacion este entre 31.5 y 33.5 es de aproximadamente un 99%.\")\n",
    "\n",
    "#b\n",
    "#99% = 2.58\n",
    "nDes = 3\n",
    "nE = 0.75\n",
    "nZ = 2.58\n",
    "\n",
    "n = (nZ * nDes / nE)**2\n",
    "\n",
    "print(f\"El tamaño minimo de la poblacion debe ser de {round(n)} personas para que el error no supere el 0.75 y que el nivel de confianza sea de un 99%.\")"
   ],
   "metadata": {
    "collapsed": false
   }
  }
 ],
 "metadata": {
  "kernelspec": {
   "display_name": "Python 3",
   "language": "python",
   "name": "python3"
  },
  "language_info": {
   "codemirror_mode": {
    "name": "ipython",
    "version": 2
   },
   "file_extension": ".py",
   "mimetype": "text/x-python",
   "name": "python",
   "nbconvert_exporter": "python",
   "pygments_lexer": "ipython2",
   "version": "2.7.6"
  }
 },
 "nbformat": 4,
 "nbformat_minor": 0
}
