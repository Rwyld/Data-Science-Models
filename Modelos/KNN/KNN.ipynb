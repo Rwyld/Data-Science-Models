{
 "cells": [
  {
   "cell_type": "code",
   "execution_count": 33,
   "metadata": {
    "collapsed": true
   },
   "outputs": [
    {
     "name": "stdout",
     "output_type": "stream",
     "text": [
      "Estadistico t : 2.23606797749979\n",
      "Estadistivo t critico 1.3277282090267986\n",
      "\n",
      "Como el valor t es mayor que el tCritico (t > tCritico), se puede concluir que la hipotesis nula es rechazada porque el promedio de consumo del estudio es superior a la media de consumo de la provincia\n",
      "\n",
      "El valor p obtenido es de 0.038, el cual es menor a 0.5\n"
     ]
    }
   ],
   "source": [
    "import numpy as np\n",
    "import scipy.stats as ss\n",
    "\n",
    "mu = 721\n",
    "n = 20\n",
    "empleados = [710,732,654,760,774,675,757,718,814,755,736,774,768,770,677,747,823,660,797,796]\n",
    "\n",
    "media = round(np.array(empleados).mean())\n",
    "des = round(np.array(empleados).std())\n",
    "\n",
    "#a\n",
    "a = 0.1\n",
    "\n",
    "#Ho : mu = 721\n",
    "#Hi : mu != 721\n",
    "\n",
    "t = (media - mu) / (des/20**0.5)\n",
    "\n",
    "tCritico = ss.t.ppf(1-a, 19)\n",
    "\n",
    "print(f\"Estadistico t : {t}\")\n",
    "print(f\"Estadistivo t critico {tCritico}\\n\")\n",
    "\n",
    "print(f\"Como el valor t es mayor que el tCritico (t > tCritico), se puede concluir que la hipotesis nula es rechazada porque el promedio de consumo del estudio es superior a la media de consumo de la provincia\\n\")\n",
    "\n",
    "#b\n",
    "p = round(ss.t.sf(t, 19)*2,3)\n",
    "p\n",
    "\n",
    "print(f\"El valor p obtenido es de {p}, el cual es menor a 0.5\")"
   ]
  }
 ],
 "metadata": {
  "kernelspec": {
   "display_name": "Python 3",
   "language": "python",
   "name": "python3"
  },
  "language_info": {
   "codemirror_mode": {
    "name": "ipython",
    "version": 2
   },
   "file_extension": ".py",
   "mimetype": "text/x-python",
   "name": "python",
   "nbconvert_exporter": "python",
   "pygments_lexer": "ipython2",
   "version": "2.7.6"
  }
 },
 "nbformat": 4,
 "nbformat_minor": 0
}
