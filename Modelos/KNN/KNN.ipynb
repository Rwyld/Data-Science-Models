{
  "cells": [
    {
      "cell_type": "markdown",
      "source": [
        "# **Setup Data**"
      ],
      "metadata": {
        "collapsed": false,
        "id": "MVnUo1E-bT1l"
      }
    },
    {
      "cell_type": "code",
      "execution_count": null,
      "metadata": {
        "colab": {
          "base_uri": "https://localhost:8080/",
          "height": 143
        },
        "id": "kM2b6TmHbT1n",
        "outputId": "c171680a-8a3d-4ffa-cb7a-9cdebf757f4e"
      },
      "outputs": [
        {
          "output_type": "execute_result",
          "data": {
            "text/plain": [
              "  Sex  Length  Diameter  Height  Whole weight  Shucked weight  Viscera weight  \\\n",
              "0   M   0.455     0.365   0.095        0.5140          0.2245          0.1010   \n",
              "1   M   0.350     0.265   0.090        0.2255          0.0995          0.0485   \n",
              "2   F   0.530     0.420   0.135        0.6770          0.2565          0.1415   \n",
              "\n",
              "   Shell weight  Rings  \n",
              "0          0.15     15  \n",
              "1          0.07      7  \n",
              "2          0.21      9  "
            ],
            "text/html": [
              "\n",
              "  <div id=\"df-a474ef5f-7a6d-4104-9505-2f795276f6f5\">\n",
              "    <div class=\"colab-df-container\">\n",
              "      <div>\n",
              "<style scoped>\n",
              "    .dataframe tbody tr th:only-of-type {\n",
              "        vertical-align: middle;\n",
              "    }\n",
              "\n",
              "    .dataframe tbody tr th {\n",
              "        vertical-align: top;\n",
              "    }\n",
              "\n",
              "    .dataframe thead th {\n",
              "        text-align: right;\n",
              "    }\n",
              "</style>\n",
              "<table border=\"1\" class=\"dataframe\">\n",
              "  <thead>\n",
              "    <tr style=\"text-align: right;\">\n",
              "      <th></th>\n",
              "      <th>Sex</th>\n",
              "      <th>Length</th>\n",
              "      <th>Diameter</th>\n",
              "      <th>Height</th>\n",
              "      <th>Whole weight</th>\n",
              "      <th>Shucked weight</th>\n",
              "      <th>Viscera weight</th>\n",
              "      <th>Shell weight</th>\n",
              "      <th>Rings</th>\n",
              "    </tr>\n",
              "  </thead>\n",
              "  <tbody>\n",
              "    <tr>\n",
              "      <th>0</th>\n",
              "      <td>M</td>\n",
              "      <td>0.455</td>\n",
              "      <td>0.365</td>\n",
              "      <td>0.095</td>\n",
              "      <td>0.5140</td>\n",
              "      <td>0.2245</td>\n",
              "      <td>0.1010</td>\n",
              "      <td>0.15</td>\n",
              "      <td>15</td>\n",
              "    </tr>\n",
              "    <tr>\n",
              "      <th>1</th>\n",
              "      <td>M</td>\n",
              "      <td>0.350</td>\n",
              "      <td>0.265</td>\n",
              "      <td>0.090</td>\n",
              "      <td>0.2255</td>\n",
              "      <td>0.0995</td>\n",
              "      <td>0.0485</td>\n",
              "      <td>0.07</td>\n",
              "      <td>7</td>\n",
              "    </tr>\n",
              "    <tr>\n",
              "      <th>2</th>\n",
              "      <td>F</td>\n",
              "      <td>0.530</td>\n",
              "      <td>0.420</td>\n",
              "      <td>0.135</td>\n",
              "      <td>0.6770</td>\n",
              "      <td>0.2565</td>\n",
              "      <td>0.1415</td>\n",
              "      <td>0.21</td>\n",
              "      <td>9</td>\n",
              "    </tr>\n",
              "  </tbody>\n",
              "</table>\n",
              "</div>\n",
              "      <button class=\"colab-df-convert\" onclick=\"convertToInteractive('df-a474ef5f-7a6d-4104-9505-2f795276f6f5')\"\n",
              "              title=\"Convert this dataframe to an interactive table.\"\n",
              "              style=\"display:none;\">\n",
              "        \n",
              "  <svg xmlns=\"http://www.w3.org/2000/svg\" height=\"24px\"viewBox=\"0 0 24 24\"\n",
              "       width=\"24px\">\n",
              "    <path d=\"M0 0h24v24H0V0z\" fill=\"none\"/>\n",
              "    <path d=\"M18.56 5.44l.94 2.06.94-2.06 2.06-.94-2.06-.94-.94-2.06-.94 2.06-2.06.94zm-11 1L8.5 8.5l.94-2.06 2.06-.94-2.06-.94L8.5 2.5l-.94 2.06-2.06.94zm10 10l.94 2.06.94-2.06 2.06-.94-2.06-.94-.94-2.06-.94 2.06-2.06.94z\"/><path d=\"M17.41 7.96l-1.37-1.37c-.4-.4-.92-.59-1.43-.59-.52 0-1.04.2-1.43.59L10.3 9.45l-7.72 7.72c-.78.78-.78 2.05 0 2.83L4 21.41c.39.39.9.59 1.41.59.51 0 1.02-.2 1.41-.59l7.78-7.78 2.81-2.81c.8-.78.8-2.07 0-2.86zM5.41 20L4 18.59l7.72-7.72 1.47 1.35L5.41 20z\"/>\n",
              "  </svg>\n",
              "      </button>\n",
              "      \n",
              "  <style>\n",
              "    .colab-df-container {\n",
              "      display:flex;\n",
              "      flex-wrap:wrap;\n",
              "      gap: 12px;\n",
              "    }\n",
              "\n",
              "    .colab-df-convert {\n",
              "      background-color: #E8F0FE;\n",
              "      border: none;\n",
              "      border-radius: 50%;\n",
              "      cursor: pointer;\n",
              "      display: none;\n",
              "      fill: #1967D2;\n",
              "      height: 32px;\n",
              "      padding: 0 0 0 0;\n",
              "      width: 32px;\n",
              "    }\n",
              "\n",
              "    .colab-df-convert:hover {\n",
              "      background-color: #E2EBFA;\n",
              "      box-shadow: 0px 1px 2px rgba(60, 64, 67, 0.3), 0px 1px 3px 1px rgba(60, 64, 67, 0.15);\n",
              "      fill: #174EA6;\n",
              "    }\n",
              "\n",
              "    [theme=dark] .colab-df-convert {\n",
              "      background-color: #3B4455;\n",
              "      fill: #D2E3FC;\n",
              "    }\n",
              "\n",
              "    [theme=dark] .colab-df-convert:hover {\n",
              "      background-color: #434B5C;\n",
              "      box-shadow: 0px 1px 3px 1px rgba(0, 0, 0, 0.15);\n",
              "      filter: drop-shadow(0px 1px 2px rgba(0, 0, 0, 0.3));\n",
              "      fill: #FFFFFF;\n",
              "    }\n",
              "  </style>\n",
              "\n",
              "      <script>\n",
              "        const buttonEl =\n",
              "          document.querySelector('#df-a474ef5f-7a6d-4104-9505-2f795276f6f5 button.colab-df-convert');\n",
              "        buttonEl.style.display =\n",
              "          google.colab.kernel.accessAllowed ? 'block' : 'none';\n",
              "\n",
              "        async function convertToInteractive(key) {\n",
              "          const element = document.querySelector('#df-a474ef5f-7a6d-4104-9505-2f795276f6f5');\n",
              "          const dataTable =\n",
              "            await google.colab.kernel.invokeFunction('convertToInteractive',\n",
              "                                                     [key], {});\n",
              "          if (!dataTable) return;\n",
              "\n",
              "          const docLinkHtml = 'Like what you see? Visit the ' +\n",
              "            '<a target=\"_blank\" href=https://colab.research.google.com/notebooks/data_table.ipynb>data table notebook</a>'\n",
              "            + ' to learn more about interactive tables.';\n",
              "          element.innerHTML = '';\n",
              "          dataTable['output_type'] = 'display_data';\n",
              "          await google.colab.output.renderOutput(dataTable, element);\n",
              "          const docLink = document.createElement('div');\n",
              "          docLink.innerHTML = docLinkHtml;\n",
              "          element.appendChild(docLink);\n",
              "        }\n",
              "      </script>\n",
              "    </div>\n",
              "  </div>\n",
              "  "
            ]
          },
          "metadata": {},
          "execution_count": 4
        }
      ],
      "source": [
        "import pandas as pd\n",
        "import numpy as np\n",
        "import seaborn as sns\n",
        "import matplotlib.pyplot as plt\n",
        "\n",
        "url = (\"https://archive.ics.uci.edu/ml/machine-learning-databases/abalone/abalone.data\")\n",
        "abalone = pd.read_csv(url, header=None)\n",
        "abalone.columns = [\"Sex\",\"Length\",\"Diameter\",\"Height\",\"Whole weight\",\"Shucked weight\",\"Viscera weight\",\"Shell weight\",\"Rings\",]\n",
        "abalone.head(3)"
      ]
    },
    {
      "cell_type": "code",
      "execution_count": null,
      "outputs": [
        {
          "output_type": "execute_result",
          "data": {
            "text/plain": [
              "   Length  Diameter  Height  Whole weight  Shucked weight  Viscera weight  \\\n",
              "0   0.455     0.365   0.095        0.5140          0.2245          0.1010   \n",
              "1   0.350     0.265   0.090        0.2255          0.0995          0.0485   \n",
              "2   0.530     0.420   0.135        0.6770          0.2565          0.1415   \n",
              "\n",
              "   Shell weight  Rings  \n",
              "0          0.15     15  \n",
              "1          0.07      7  \n",
              "2          0.21      9  "
            ],
            "text/html": [
              "\n",
              "  <div id=\"df-61229eaf-7db4-4982-842f-145eb8934d13\">\n",
              "    <div class=\"colab-df-container\">\n",
              "      <div>\n",
              "<style scoped>\n",
              "    .dataframe tbody tr th:only-of-type {\n",
              "        vertical-align: middle;\n",
              "    }\n",
              "\n",
              "    .dataframe tbody tr th {\n",
              "        vertical-align: top;\n",
              "    }\n",
              "\n",
              "    .dataframe thead th {\n",
              "        text-align: right;\n",
              "    }\n",
              "</style>\n",
              "<table border=\"1\" class=\"dataframe\">\n",
              "  <thead>\n",
              "    <tr style=\"text-align: right;\">\n",
              "      <th></th>\n",
              "      <th>Length</th>\n",
              "      <th>Diameter</th>\n",
              "      <th>Height</th>\n",
              "      <th>Whole weight</th>\n",
              "      <th>Shucked weight</th>\n",
              "      <th>Viscera weight</th>\n",
              "      <th>Shell weight</th>\n",
              "      <th>Rings</th>\n",
              "    </tr>\n",
              "  </thead>\n",
              "  <tbody>\n",
              "    <tr>\n",
              "      <th>0</th>\n",
              "      <td>0.455</td>\n",
              "      <td>0.365</td>\n",
              "      <td>0.095</td>\n",
              "      <td>0.5140</td>\n",
              "      <td>0.2245</td>\n",
              "      <td>0.1010</td>\n",
              "      <td>0.15</td>\n",
              "      <td>15</td>\n",
              "    </tr>\n",
              "    <tr>\n",
              "      <th>1</th>\n",
              "      <td>0.350</td>\n",
              "      <td>0.265</td>\n",
              "      <td>0.090</td>\n",
              "      <td>0.2255</td>\n",
              "      <td>0.0995</td>\n",
              "      <td>0.0485</td>\n",
              "      <td>0.07</td>\n",
              "      <td>7</td>\n",
              "    </tr>\n",
              "    <tr>\n",
              "      <th>2</th>\n",
              "      <td>0.530</td>\n",
              "      <td>0.420</td>\n",
              "      <td>0.135</td>\n",
              "      <td>0.6770</td>\n",
              "      <td>0.2565</td>\n",
              "      <td>0.1415</td>\n",
              "      <td>0.21</td>\n",
              "      <td>9</td>\n",
              "    </tr>\n",
              "  </tbody>\n",
              "</table>\n",
              "</div>\n",
              "      <button class=\"colab-df-convert\" onclick=\"convertToInteractive('df-61229eaf-7db4-4982-842f-145eb8934d13')\"\n",
              "              title=\"Convert this dataframe to an interactive table.\"\n",
              "              style=\"display:none;\">\n",
              "        \n",
              "  <svg xmlns=\"http://www.w3.org/2000/svg\" height=\"24px\"viewBox=\"0 0 24 24\"\n",
              "       width=\"24px\">\n",
              "    <path d=\"M0 0h24v24H0V0z\" fill=\"none\"/>\n",
              "    <path d=\"M18.56 5.44l.94 2.06.94-2.06 2.06-.94-2.06-.94-.94-2.06-.94 2.06-2.06.94zm-11 1L8.5 8.5l.94-2.06 2.06-.94-2.06-.94L8.5 2.5l-.94 2.06-2.06.94zm10 10l.94 2.06.94-2.06 2.06-.94-2.06-.94-.94-2.06-.94 2.06-2.06.94z\"/><path d=\"M17.41 7.96l-1.37-1.37c-.4-.4-.92-.59-1.43-.59-.52 0-1.04.2-1.43.59L10.3 9.45l-7.72 7.72c-.78.78-.78 2.05 0 2.83L4 21.41c.39.39.9.59 1.41.59.51 0 1.02-.2 1.41-.59l7.78-7.78 2.81-2.81c.8-.78.8-2.07 0-2.86zM5.41 20L4 18.59l7.72-7.72 1.47 1.35L5.41 20z\"/>\n",
              "  </svg>\n",
              "      </button>\n",
              "      \n",
              "  <style>\n",
              "    .colab-df-container {\n",
              "      display:flex;\n",
              "      flex-wrap:wrap;\n",
              "      gap: 12px;\n",
              "    }\n",
              "\n",
              "    .colab-df-convert {\n",
              "      background-color: #E8F0FE;\n",
              "      border: none;\n",
              "      border-radius: 50%;\n",
              "      cursor: pointer;\n",
              "      display: none;\n",
              "      fill: #1967D2;\n",
              "      height: 32px;\n",
              "      padding: 0 0 0 0;\n",
              "      width: 32px;\n",
              "    }\n",
              "\n",
              "    .colab-df-convert:hover {\n",
              "      background-color: #E2EBFA;\n",
              "      box-shadow: 0px 1px 2px rgba(60, 64, 67, 0.3), 0px 1px 3px 1px rgba(60, 64, 67, 0.15);\n",
              "      fill: #174EA6;\n",
              "    }\n",
              "\n",
              "    [theme=dark] .colab-df-convert {\n",
              "      background-color: #3B4455;\n",
              "      fill: #D2E3FC;\n",
              "    }\n",
              "\n",
              "    [theme=dark] .colab-df-convert:hover {\n",
              "      background-color: #434B5C;\n",
              "      box-shadow: 0px 1px 3px 1px rgba(0, 0, 0, 0.15);\n",
              "      filter: drop-shadow(0px 1px 2px rgba(0, 0, 0, 0.3));\n",
              "      fill: #FFFFFF;\n",
              "    }\n",
              "  </style>\n",
              "\n",
              "      <script>\n",
              "        const buttonEl =\n",
              "          document.querySelector('#df-61229eaf-7db4-4982-842f-145eb8934d13 button.colab-df-convert');\n",
              "        buttonEl.style.display =\n",
              "          google.colab.kernel.accessAllowed ? 'block' : 'none';\n",
              "\n",
              "        async function convertToInteractive(key) {\n",
              "          const element = document.querySelector('#df-61229eaf-7db4-4982-842f-145eb8934d13');\n",
              "          const dataTable =\n",
              "            await google.colab.kernel.invokeFunction('convertToInteractive',\n",
              "                                                     [key], {});\n",
              "          if (!dataTable) return;\n",
              "\n",
              "          const docLinkHtml = 'Like what you see? Visit the ' +\n",
              "            '<a target=\"_blank\" href=https://colab.research.google.com/notebooks/data_table.ipynb>data table notebook</a>'\n",
              "            + ' to learn more about interactive tables.';\n",
              "          element.innerHTML = '';\n",
              "          dataTable['output_type'] = 'display_data';\n",
              "          await google.colab.output.renderOutput(dataTable, element);\n",
              "          const docLink = document.createElement('div');\n",
              "          docLink.innerHTML = docLinkHtml;\n",
              "          element.appendChild(docLink);\n",
              "        }\n",
              "      </script>\n",
              "    </div>\n",
              "  </div>\n",
              "  "
            ]
          },
          "metadata": {},
          "execution_count": 5
        }
      ],
      "source": [
        "abalone = abalone.drop('Sex', axis=1)\n",
        "abalone.head(3)"
      ],
      "metadata": {
        "colab": {
          "base_uri": "https://localhost:8080/",
          "height": 143
        },
        "id": "1p6dwYrsbT1o",
        "outputId": "c0924bde-aef1-4811-99a4-d6f8f8723c1a"
      }
    },
    {
      "cell_type": "markdown",
      "source": [
        "# **Analisis Exploratorio**"
      ],
      "metadata": {
        "collapsed": false,
        "id": "k0BtwnvUbT1p"
      }
    },
    {
      "cell_type": "code",
      "execution_count": null,
      "outputs": [
        {
          "name": "stdout",
          "output_type": "stream",
          "text": [
            "<class 'pandas.core.frame.DataFrame'>\n",
            "RangeIndex: 4177 entries, 0 to 4176\n",
            "Data columns (total 8 columns):\n",
            " #   Column          Non-Null Count  Dtype  \n",
            "---  ------          --------------  -----  \n",
            " 0   Length          4177 non-null   float64\n",
            " 1   Diameter        4177 non-null   float64\n",
            " 2   Height          4177 non-null   float64\n",
            " 3   Whole weight    4177 non-null   float64\n",
            " 4   Shucked weight  4177 non-null   float64\n",
            " 5   Viscera weight  4177 non-null   float64\n",
            " 6   Shell weight    4177 non-null   float64\n",
            " 7   Rings           4177 non-null   int64  \n",
            "dtypes: float64(7), int64(1)\n",
            "memory usage: 261.2 KB\n"
          ]
        }
      ],
      "source": [
        "abalone.info()"
      ],
      "metadata": {
        "id": "lvOltCDdbT1p",
        "outputId": "e43099a0-77d4-4988-9751-e89ae8a72211"
      }
    },
    {
      "cell_type": "code",
      "execution_count": null,
      "outputs": [
        {
          "output_type": "display_data",
          "data": {
            "text/plain": [
              "<Figure size 500x1000 with 8 Axes>"
            ],
            "image/png": "[encoded data removed]"
          },
          "metadata": {}
        }
      ],
      "source": [
        "fig, axes = plt.subplots(nrows=8, ncols=1, figsize=(5,10))\n",
        "axes = axes.flat\n",
        "data = abalone.select_dtypes(include=['float64', 'int']).columns\n",
        "\n",
        "for i, colum in enumerate(data):\n",
        "    sns.histplot(\n",
        "        data    = abalone,\n",
        "        x       = colum,\n",
        "        stat    = \"count\",\n",
        "        kde     = True,\n",
        "        color   = (list(plt.rcParams['axes.prop_cycle'])*2)[i][\"color\"],\n",
        "        line_kws= {'linewidth': 2},\n",
        "        alpha   = 0.3,\n",
        "        ax      = axes[i]\n",
        "    )\n",
        "    axes[i].set_title(colum, fontsize = 10, fontweight = \"bold\")\n",
        "    axes[i].tick_params(labelsize = 8)\n",
        "    axes[i].set_xlabel(\"\")\n",
        "\n",
        "\n",
        "fig.tight_layout()\n",
        "plt.subplots_adjust(top = 0.9)\n",
        "fig.suptitle('Distribución variables numéricas', fontsize = 10, fontweight = \"bold\");"
      ],
      "metadata": {
        "colab": {
          "base_uri": "https://localhost:8080/",
          "height": 1002
        },
        "id": "ib7S4kirbT1p",
        "outputId": "47a6d36d-cda2-44a0-ca10-59ae6267ecd3"
      }
    },
    {
      "cell_type": "code",
      "execution_count": null,
      "outputs": [
        {
          "data": {
            "text/plain": "            Length     Diameter       Height  Whole weight  Shucked weight   \ncount  4177.000000  4177.000000  4177.000000   4177.000000     4177.000000  \\\nmean      0.523992     0.407881     0.139516      0.828742        0.359367   \nstd       0.120093     0.099240     0.041827      0.490389        0.221963   \nmin       0.075000     0.055000     0.000000      0.002000        0.001000   \n25%       0.450000     0.350000     0.115000      0.441500        0.186000   \n50%       0.545000     0.425000     0.140000      0.799500        0.336000   \n75%       0.615000     0.480000     0.165000      1.153000        0.502000   \nmax       0.815000     0.650000     1.130000      2.825500        1.488000   \n\n       Viscera weight  Shell weight        Rings  \ncount     4177.000000   4177.000000  4177.000000  \nmean         0.180594      0.238831     9.933684  \nstd          0.109614      0.139203     3.224169  \nmin          0.000500      0.001500     1.000000  \n25%          0.093500      0.130000     8.000000  \n50%          0.171000      0.234000     9.000000  \n75%          0.253000      0.329000    11.000000  \nmax          0.760000      1.005000    29.000000  ",
            "text/html": "<div>\n<style scoped>\n    .dataframe tbody tr th:only-of-type {\n        vertical-align: middle;\n    }\n\n    .dataframe tbody tr th {\n        vertical-align: top;\n    }\n\n    .dataframe thead th {\n        text-align: right;\n    }\n</style>\n<table border=\"1\" class=\"dataframe\">\n  <thead>\n    <tr style=\"text-align: right;\">\n      <th></th>\n      <th>Length</th>\n      <th>Diameter</th>\n      <th>Height</th>\n      <th>Whole weight</th>\n      <th>Shucked weight</th>\n      <th>Viscera weight</th>\n      <th>Shell weight</th>\n      <th>Rings</th>\n    </tr>\n  </thead>\n  <tbody>\n    <tr>\n      <th>count</th>\n      <td>4177.000000</td>\n      <td>4177.000000</td>\n      <td>4177.000000</td>\n      <td>4177.000000</td>\n      <td>4177.000000</td>\n      <td>4177.000000</td>\n      <td>4177.000000</td>\n      <td>4177.000000</td>\n    </tr>\n    <tr>\n      <th>mean</th>\n      <td>0.523992</td>\n      <td>0.407881</td>\n      <td>0.139516</td>\n      <td>0.828742</td>\n      <td>0.359367</td>\n      <td>0.180594</td>\n      <td>0.238831</td>\n      <td>9.933684</td>\n    </tr>\n    <tr>\n      <th>std</th>\n      <td>0.120093</td>\n      <td>0.099240</td>\n      <td>0.041827</td>\n      <td>0.490389</td>\n      <td>0.221963</td>\n      <td>0.109614</td>\n      <td>0.139203</td>\n      <td>3.224169</td>\n    </tr>\n    <tr>\n      <th>min</th>\n      <td>0.075000</td>\n      <td>0.055000</td>\n      <td>0.000000</td>\n      <td>0.002000</td>\n      <td>0.001000</td>\n      <td>0.000500</td>\n      <td>0.001500</td>\n      <td>1.000000</td>\n    </tr>\n    <tr>\n      <th>25%</th>\n      <td>0.450000</td>\n      <td>0.350000</td>\n      <td>0.115000</td>\n      <td>0.441500</td>\n      <td>0.186000</td>\n      <td>0.093500</td>\n      <td>0.130000</td>\n      <td>8.000000</td>\n    </tr>\n    <tr>\n      <th>50%</th>\n      <td>0.545000</td>\n      <td>0.425000</td>\n      <td>0.140000</td>\n      <td>0.799500</td>\n      <td>0.336000</td>\n      <td>0.171000</td>\n      <td>0.234000</td>\n      <td>9.000000</td>\n    </tr>\n    <tr>\n      <th>75%</th>\n      <td>0.615000</td>\n      <td>0.480000</td>\n      <td>0.165000</td>\n      <td>1.153000</td>\n      <td>0.502000</td>\n      <td>0.253000</td>\n      <td>0.329000</td>\n      <td>11.000000</td>\n    </tr>\n    <tr>\n      <th>max</th>\n      <td>0.815000</td>\n      <td>0.650000</td>\n      <td>1.130000</td>\n      <td>2.825500</td>\n      <td>1.488000</td>\n      <td>0.760000</td>\n      <td>1.005000</td>\n      <td>29.000000</td>\n    </tr>\n  </tbody>\n</table>\n</div>"
          },
          "execution_count": 93,
          "metadata": {},
          "output_type": "execute_result"
        }
      ],
      "source": [
        "abalone.describe()"
      ],
      "metadata": {
        "id": "wecAaNbKbT1q",
        "outputId": "f96323d9-315f-4963-965a-db8a551cb360"
      }
    },
    {
      "cell_type": "markdown",
      "source": [
        "Al observar la distribucion de las variables, se logra identificar una tendencia a ser una distribucion normal en las variables de Length, Diameter, Height y Rings. Mientras que los pesos (\"Weight's\") distrubuyen normal positivamente.\n",
        "\n",
        "Sin embargo, nuestra variable de interes \"Rings\", tiene una distribucion normal estandar mas marcada, para esto la observaremos mas detalladamente."
      ],
      "metadata": {
        "collapsed": false,
        "id": "st_l3otnbT1q"
      }
    },
    {
      "cell_type": "markdown",
      "source": [
        "# **Distribucion Variable Interes \"Rings\"**"
      ],
      "metadata": {
        "collapsed": false,
        "id": "O-L--zaSbT1q"
      }
    },
    {
      "cell_type": "code",
      "execution_count": null,
      "outputs": [
        {
          "data": {
            "text/plain": "<Figure size 640x480 with 1 Axes>",
            "image/png": "[encoded data removed]"
          },
          "metadata": {},
          "output_type": "display_data"
        }
      ],
      "source": [
        "sns.histplot(data=abalone['Rings'])\n",
        "\n",
        "plt.tight_layout()\n",
        "plt.show()"
      ],
      "metadata": {
        "id": "5P-VyecXbT1q",
        "outputId": "9313ac9e-585a-4d1d-9e78-602830cfa9a9"
      }
    },
    {
      "cell_type": "markdown",
      "source": [
        "Comparando los datos obtenidos con el metodo Describe(), se observa claramente que la media esta aproximadamente en 10 rings, y que tambien existe una asimetria positiva en los valores de rings mas elevados."
      ],
      "metadata": {
        "collapsed": false,
        "id": "zokj8CBmbT1q"
      }
    },
    {
      "cell_type": "markdown",
      "source": [
        "# **Correlacion de las variables**"
      ],
      "metadata": {
        "collapsed": false,
        "id": "fuQZVKMRbT1r"
      }
    },
    {
      "cell_type": "code",
      "execution_count": null,
      "outputs": [
        {
          "data": {
            "text/plain": "Length            0.556720\nDiameter          0.574660\nHeight            0.557467\nWhole weight      0.540390\nShucked weight    0.420884\nViscera weight    0.503819\nShell weight      0.627574\nRings             1.000000\nName: Rings, dtype: float64"
          },
          "execution_count": 95,
          "metadata": {},
          "output_type": "execute_result"
        }
      ],
      "source": [
        "correlation = abalone.corr()\n",
        "correlation['Rings']"
      ],
      "metadata": {
        "id": "i24_DoC8bT1r",
        "outputId": "fe359f6e-3f9b-44b1-dfe9-b30756a9db25"
      }
    },
    {
      "cell_type": "markdown",
      "source": [
        "En cuanto a la correlacion de las variables con respuesto a la Variable Respuesta \"Rings\", se observa una correlacion moderada en la mayoria de las variables que sobrepasan un valor de 0.5. Exceptuando la variable Shucked Weight, que podria ser una candidata a ser descartada, debido a que es la variable con mas baja correlacion respecto a las demas."
      ],
      "metadata": {
        "collapsed": false,
        "id": "GoCPck76bT1r"
      }
    },
    {
      "cell_type": "markdown",
      "source": [
        "# **Definiendo Distancias**"
      ],
      "metadata": {
        "collapsed": false,
        "id": "JLRp6iCubT1r"
      }
    },
    {
      "cell_type": "code",
      "execution_count": null,
      "outputs": [],
      "source": [
        "X = abalone.drop('Rings', axis=1)\n",
        "X = X.values\n",
        "Y = abalone['Rings']\n",
        "Y = Y.values\n",
        "\n",
        "#AbulonMeanValues\n",
        "abulonPoint = np.array([0.523992,0.407881,0.139516,0.828742,0.359367,0.180594,0.238831])"
      ],
      "metadata": {
        "id": "1hI_h3b5bT1r"
      }
    },
    {
      "cell_type": "code",
      "execution_count": null,
      "outputs": [
        {
          "data": {
            "text/plain": "array([0.37424342, 0.72837115, 0.1901846 , ..., 0.42305067, 0.35507533,\n       1.32692616])"
          },
          "metadata": {},
          "output_type": "display_data"
        }
      ],
      "source": [
        "distances = np.linalg.norm(X - abulonPoint, axis=1)\n",
        "display(distances)"
      ],
      "metadata": {
        "id": "pBG4EHahbT1r",
        "outputId": "cf4b3c15-3bad-469f-fe7c-a3c6fcfc15c6"
      }
    },
    {
      "cell_type": "markdown",
      "source": [
        "Para observar algunos datos vecinos con algun punto de interes, se definio los valores promedios de todas las variables para observar que datos estan cercanos al promedio."
      ],
      "metadata": {
        "collapsed": false,
        "id": "IyV-zT_QbT1s"
      }
    },
    {
      "cell_type": "markdown",
      "source": [
        "# **Determinando vecinos cercanos**"
      ],
      "metadata": {
        "collapsed": false,
        "id": "xqwnQYdAbT1s"
      }
    },
    {
      "cell_type": "code",
      "execution_count": null,
      "outputs": [
        {
          "data": {
            "text/plain": "array([2892, 3833, 1599], dtype=int64)"
          },
          "metadata": {},
          "output_type": "display_data"
        }
      ],
      "source": [
        "k = 3\n",
        "\n",
        "vecinosCercanos = distances.argsort()[:k]\n",
        "display(vecinosCercanos)"
      ],
      "metadata": {
        "id": "uGPMcGyNbT1s",
        "outputId": "16df9333-90fb-4ad2-daa8-f6851d3112ff"
      }
    },
    {
      "cell_type": "markdown",
      "source": [
        "Por ultimo, los datos vecinos que son cercanos a el punto definido anteriormente fueron los siguientes datos:"
      ],
      "metadata": {
        "collapsed": false,
        "id": "0LDsnTGibT1s"
      }
    },
    {
      "cell_type": "code",
      "execution_count": null,
      "outputs": [
        {
          "data": {
            "text/plain": "Length             0.5300\nDiameter           0.4050\nHeight             0.1500\nWhole weight       0.8315\nShucked weight     0.3520\nViscera weight     0.1870\nShell weight       0.2525\nRings             10.0000\nName: 2892, dtype: float64"
          },
          "metadata": {},
          "output_type": "display_data"
        },
        {
          "data": {
            "text/plain": "Length             0.5350\nDiameter           0.4100\nHeight             0.1500\nWhole weight       0.8105\nShucked weight     0.3450\nViscera weight     0.1870\nShell weight       0.2400\nRings             11.0000\nName: 3833, dtype: float64"
          },
          "metadata": {},
          "output_type": "display_data"
        },
        {
          "data": {
            "text/plain": "Length             0.5300\nDiameter           0.4200\nHeight             0.1300\nWhole weight       0.8365\nShucked weight     0.3745\nViscera weight     0.1670\nShell weight       0.2490\nRings             11.0000\nName: 1599, dtype: float64"
          },
          "metadata": {},
          "output_type": "display_data"
        }
      ],
      "source": [
        "display(abalone.iloc[2892])\n",
        "display(abalone.iloc[3833])\n",
        "display(abalone.iloc[1599])"
      ],
      "metadata": {
        "id": "8ZjYQVLzbT1s",
        "outputId": "490119eb-13ef-4802-9429-3f3b95dc648f"
      }
    }
  ],
  "metadata": {
    "kernelspec": {
      "display_name": "Python 3",
      "language": "python",
      "name": "python3"
    },
    "language_info": {
      "codemirror_mode": {
        "name": "ipython",
        "version": 2
      },
      "file_extension": ".py",
      "mimetype": "text/x-python",
      "name": "python",
      "nbconvert_exporter": "python",
      "pygments_lexer": "ipython2",
      "version": "2.7.6"
    },
    "colab": {
      "provenance": []
    }
  },
  "nbformat": 4,
  "nbformat_minor": 0
}